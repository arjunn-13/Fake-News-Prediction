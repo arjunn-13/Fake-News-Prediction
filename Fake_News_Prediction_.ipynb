{
  "nbformat": 4,
  "nbformat_minor": 0,
  "metadata": {
    "colab": {
      "name": "Fake News Prediction .ipynb",
      "provenance": [],
      "authorship_tag": "ABX9TyPCoM8qpPs1ffFJE0yeexSo",
      "include_colab_link": true
    },
    "kernelspec": {
      "name": "python3",
      "display_name": "Python 3"
    },
    "language_info": {
      "name": "python"
    }
  },
  "cells": [
    {
      "cell_type": "markdown",
      "metadata": {
        "id": "view-in-github",
        "colab_type": "text"
      },
      "source": [
        "<a href=\"https://colab.research.google.com/github/arjunn-13/Fake-News-Prediction/blob/main/Fake_News_Prediction_.ipynb\" target=\"_parent\"><img src=\"https://colab.research.google.com/assets/colab-badge.svg\" alt=\"Open In Colab\"/></a>"
      ]
    },
    {
      "cell_type": "code",
      "metadata": {
        "id": "5GV_JoNPkA48"
      },
      "source": [
        "import numpy as np\n",
        "import pandas as pd\n",
        "import re\n",
        "from nltk.corpus import stopwords\n",
        "from nltk.stem.porter import PorterStemmer\n",
        "from sklearn.feature_extraction.text import TfidfVectorizer\n",
        "from sklearn.model_selection import train_test_split\n",
        "from sklearn.linear_model import LogisticRegression\n",
        "from sklearn.metrics import accuracy_score"
      ],
      "execution_count": 71,
      "outputs": []
    },
    {
      "cell_type": "code",
      "metadata": {
        "colab": {
          "base_uri": "https://localhost:8080/"
        },
        "id": "HM-J3plJpx7J",
        "outputId": "8e82678c-2f26-45fa-8bdd-263d2a9f2381"
      },
      "source": [
        "import nltk \n",
        "nltk.download('stopwords')\n"
      ],
      "execution_count": 70,
      "outputs": [
        {
          "output_type": "stream",
          "text": [
            "[nltk_data] Downloading package stopwords to /root/nltk_data...\n",
            "[nltk_data]   Package stopwords is already up-to-date!\n"
          ],
          "name": "stdout"
        },
        {
          "output_type": "execute_result",
          "data": {
            "text/plain": [
              "True"
            ]
          },
          "metadata": {
            "tags": []
          },
          "execution_count": 70
        }
      ]
    },
    {
      "cell_type": "code",
      "metadata": {
        "colab": {
          "base_uri": "https://localhost:8080/"
        },
        "id": "-yZn3O8RrTrM",
        "outputId": "ef108d9e-a4c9-4b14-f920-721879400f11"
      },
      "source": [
        "print(stopwords.words('english'))\n",
        "\n"
      ],
      "execution_count": 69,
      "outputs": [
        {
          "output_type": "stream",
          "text": [
            "['i', 'me', 'my', 'myself', 'we', 'our', 'ours', 'ourselves', 'you', \"you're\", \"you've\", \"you'll\", \"you'd\", 'your', 'yours', 'yourself', 'yourselves', 'he', 'him', 'his', 'himself', 'she', \"she's\", 'her', 'hers', 'herself', 'it', \"it's\", 'its', 'itself', 'they', 'them', 'their', 'theirs', 'themselves', 'what', 'which', 'who', 'whom', 'this', 'that', \"that'll\", 'these', 'those', 'am', 'is', 'are', 'was', 'were', 'be', 'been', 'being', 'have', 'has', 'had', 'having', 'do', 'does', 'did', 'doing', 'a', 'an', 'the', 'and', 'but', 'if', 'or', 'because', 'as', 'until', 'while', 'of', 'at', 'by', 'for', 'with', 'about', 'against', 'between', 'into', 'through', 'during', 'before', 'after', 'above', 'below', 'to', 'from', 'up', 'down', 'in', 'out', 'on', 'off', 'over', 'under', 'again', 'further', 'then', 'once', 'here', 'there', 'when', 'where', 'why', 'how', 'all', 'any', 'both', 'each', 'few', 'more', 'most', 'other', 'some', 'such', 'no', 'nor', 'not', 'only', 'own', 'same', 'so', 'than', 'too', 'very', 's', 't', 'can', 'will', 'just', 'don', \"don't\", 'should', \"should've\", 'now', 'd', 'll', 'm', 'o', 're', 've', 'y', 'ain', 'aren', \"aren't\", 'couldn', \"couldn't\", 'didn', \"didn't\", 'doesn', \"doesn't\", 'hadn', \"hadn't\", 'hasn', \"hasn't\", 'haven', \"haven't\", 'isn', \"isn't\", 'ma', 'mightn', \"mightn't\", 'mustn', \"mustn't\", 'needn', \"needn't\", 'shan', \"shan't\", 'shouldn', \"shouldn't\", 'wasn', \"wasn't\", 'weren', \"weren't\", 'won', \"won't\", 'wouldn', \"wouldn't\"]\n"
          ],
          "name": "stdout"
        }
      ]
    },
    {
      "cell_type": "markdown",
      "metadata": {
        "id": "abM7FX7grylr"
      },
      "source": [
        "Data Pre-processing"
      ]
    },
    {
      "cell_type": "code",
      "metadata": {
        "colab": {
          "base_uri": "https://localhost:8080/"
        },
        "id": "DBTOmUG1ruVC",
        "outputId": "5c310fa4-7faf-4122-c5e6-bc719867286e"
      },
      "source": [
        "#Loading DataSet to pandas DataFrame\n",
        "news_dataset = pd.read_csv('/content/train.csv')\n",
        "\n",
        "news_dataset.shape"
      ],
      "execution_count": 68,
      "outputs": [
        {
          "output_type": "execute_result",
          "data": {
            "text/plain": [
              "(20800, 5)"
            ]
          },
          "metadata": {
            "tags": []
          },
          "execution_count": 68
        }
      ]
    },
    {
      "cell_type": "markdown",
      "metadata": {
        "id": "sfXToQ1Estdo"
      },
      "source": [
        "1 -> Fake News\n",
        "\n",
        "0 -> Real News"
      ]
    },
    {
      "cell_type": "code",
      "metadata": {
        "colab": {
          "base_uri": "https://localhost:8080/",
          "height": 464
        },
        "id": "WWhluFN2sZhQ",
        "outputId": "cf3ff428-9eda-4fea-a8d7-256b13bcc1ba"
      },
      "source": [
        "news_dataset.head()"
      ],
      "execution_count": 67,
      "outputs": [
        {
          "output_type": "execute_result",
          "data": {
            "text/html": [
              "<div>\n",
              "<style scoped>\n",
              "    .dataframe tbody tr th:only-of-type {\n",
              "        vertical-align: middle;\n",
              "    }\n",
              "\n",
              "    .dataframe tbody tr th {\n",
              "        vertical-align: top;\n",
              "    }\n",
              "\n",
              "    .dataframe thead th {\n",
              "        text-align: right;\n",
              "    }\n",
              "</style>\n",
              "<table border=\"1\" class=\"dataframe\">\n",
              "  <thead>\n",
              "    <tr style=\"text-align: right;\">\n",
              "      <th></th>\n",
              "      <th>id</th>\n",
              "      <th>title</th>\n",
              "      <th>author</th>\n",
              "      <th>text</th>\n",
              "      <th>label</th>\n",
              "      <th>content</th>\n",
              "    </tr>\n",
              "  </thead>\n",
              "  <tbody>\n",
              "    <tr>\n",
              "      <th>0</th>\n",
              "      <td>0</td>\n",
              "      <td>House Dem Aide: We Didn’t Even See Comey’s Let...</td>\n",
              "      <td>Darrell Lucus</td>\n",
              "      <td>House Dem Aide: We Didn’t Even See Comey’s Let...</td>\n",
              "      <td>1</td>\n",
              "      <td>Darrell Lucus House Dem Aide: We Didn’t Even S...</td>\n",
              "    </tr>\n",
              "    <tr>\n",
              "      <th>1</th>\n",
              "      <td>1</td>\n",
              "      <td>FLYNN: Hillary Clinton, Big Woman on Campus - ...</td>\n",
              "      <td>Daniel J. Flynn</td>\n",
              "      <td>Ever get the feeling your life circles the rou...</td>\n",
              "      <td>0</td>\n",
              "      <td>Daniel J. Flynn FLYNN: Hillary Clinton, Big Wo...</td>\n",
              "    </tr>\n",
              "    <tr>\n",
              "      <th>2</th>\n",
              "      <td>2</td>\n",
              "      <td>Why the Truth Might Get You Fired</td>\n",
              "      <td>Consortiumnews.com</td>\n",
              "      <td>Why the Truth Might Get You Fired October 29, ...</td>\n",
              "      <td>1</td>\n",
              "      <td>Consortiumnews.com Why the Truth Might Get You...</td>\n",
              "    </tr>\n",
              "    <tr>\n",
              "      <th>3</th>\n",
              "      <td>3</td>\n",
              "      <td>15 Civilians Killed In Single US Airstrike Hav...</td>\n",
              "      <td>Jessica Purkiss</td>\n",
              "      <td>Videos 15 Civilians Killed In Single US Airstr...</td>\n",
              "      <td>1</td>\n",
              "      <td>Jessica Purkiss 15 Civilians Killed In Single ...</td>\n",
              "    </tr>\n",
              "    <tr>\n",
              "      <th>4</th>\n",
              "      <td>4</td>\n",
              "      <td>Iranian woman jailed for fictional unpublished...</td>\n",
              "      <td>Howard Portnoy</td>\n",
              "      <td>Print \\nAn Iranian woman has been sentenced to...</td>\n",
              "      <td>1</td>\n",
              "      <td>Howard Portnoy Iranian woman jailed for fictio...</td>\n",
              "    </tr>\n",
              "  </tbody>\n",
              "</table>\n",
              "</div>"
            ],
            "text/plain": [
              "   id  ...                                            content\n",
              "0   0  ...  Darrell Lucus House Dem Aide: We Didn’t Even S...\n",
              "1   1  ...  Daniel J. Flynn FLYNN: Hillary Clinton, Big Wo...\n",
              "2   2  ...  Consortiumnews.com Why the Truth Might Get You...\n",
              "3   3  ...  Jessica Purkiss 15 Civilians Killed In Single ...\n",
              "4   4  ...  Howard Portnoy Iranian woman jailed for fictio...\n",
              "\n",
              "[5 rows x 6 columns]"
            ]
          },
          "metadata": {
            "tags": []
          },
          "execution_count": 67
        }
      ]
    },
    {
      "cell_type": "code",
      "metadata": {
        "colab": {
          "base_uri": "https://localhost:8080/"
        },
        "id": "XuZPosbds3NC",
        "outputId": "cd754fea-6bcf-489e-a3f8-63e01f252317"
      },
      "source": [
        "#Checking for missing values\n",
        "news_dataset.isnull().sum()"
      ],
      "execution_count": 66,
      "outputs": [
        {
          "output_type": "execute_result",
          "data": {
            "text/plain": [
              "id         0\n",
              "title      0\n",
              "author     0\n",
              "text       0\n",
              "label      0\n",
              "content    0\n",
              "dtype: int64"
            ]
          },
          "metadata": {
            "tags": []
          },
          "execution_count": 66
        }
      ]
    },
    {
      "cell_type": "code",
      "metadata": {
        "id": "AfNPgl-mtuMq"
      },
      "source": [
        "#Replacing the null values with empty strings\n",
        "news_dataset=news_dataset.fillna('')"
      ],
      "execution_count": 65,
      "outputs": []
    },
    {
      "cell_type": "code",
      "metadata": {
        "colab": {
          "base_uri": "https://localhost:8080/"
        },
        "id": "ERWiqL4mt7GC",
        "outputId": "fdb12ba7-d16a-48ba-ef77-64c1d7efb6ea"
      },
      "source": [
        "#Emerging the author and news title\n",
        "news_dataset['content']=news_dataset['author'] + ' ' + news_dataset['title']\n",
        "print (news_dataset['content'])"
      ],
      "execution_count": 77,
      "outputs": [
        {
          "output_type": "stream",
          "text": [
            "0        Darrell Lucus House Dem Aide: We Didn’t Even S...\n",
            "1        Daniel J. Flynn FLYNN: Hillary Clinton, Big Wo...\n",
            "2        Consortiumnews.com Why the Truth Might Get You...\n",
            "3        Jessica Purkiss 15 Civilians Killed In Single ...\n",
            "4        Howard Portnoy Iranian woman jailed for fictio...\n",
            "                               ...                        \n",
            "20795    Jerome Hudson Rapper T.I.: Trump a ’Poster Chi...\n",
            "20796    Benjamin Hoffman N.F.L. Playoffs: Schedule, Ma...\n",
            "20797    Michael J. de la Merced and Rachel Abrams Macy...\n",
            "20798    Alex Ansary NATO, Russia To Hold Parallel Exer...\n",
            "20799              David Swanson What Keeps the F-35 Alive\n",
            "Name: content, Length: 20800, dtype: object\n"
          ],
          "name": "stdout"
        }
      ]
    },
    {
      "cell_type": "code",
      "metadata": {
        "colab": {
          "base_uri": "https://localhost:8080/"
        },
        "id": "RLAwxXTeux5r",
        "outputId": "d32b0619-35ed-4f7e-84d2-a1d51f5d3074"
      },
      "source": [
        "#Seperating on labels\n",
        "X=news_dataset.drop(columns='label',axis =1)\n",
        "Y =news_dataset['label']\n",
        "print(X)\n",
        "print(Y)\n",
        "\n"
      ],
      "execution_count": 78,
      "outputs": [
        {
          "output_type": "stream",
          "text": [
            "          id  ...                                            content\n",
            "0          0  ...  Darrell Lucus House Dem Aide: We Didn’t Even S...\n",
            "1          1  ...  Daniel J. Flynn FLYNN: Hillary Clinton, Big Wo...\n",
            "2          2  ...  Consortiumnews.com Why the Truth Might Get You...\n",
            "3          3  ...  Jessica Purkiss 15 Civilians Killed In Single ...\n",
            "4          4  ...  Howard Portnoy Iranian woman jailed for fictio...\n",
            "...      ...  ...                                                ...\n",
            "20795  20795  ...  Jerome Hudson Rapper T.I.: Trump a ’Poster Chi...\n",
            "20796  20796  ...  Benjamin Hoffman N.F.L. Playoffs: Schedule, Ma...\n",
            "20797  20797  ...  Michael J. de la Merced and Rachel Abrams Macy...\n",
            "20798  20798  ...  Alex Ansary NATO, Russia To Hold Parallel Exer...\n",
            "20799  20799  ...            David Swanson What Keeps the F-35 Alive\n",
            "\n",
            "[20800 rows x 5 columns]\n",
            "0        1\n",
            "1        0\n",
            "2        1\n",
            "3        1\n",
            "4        1\n",
            "        ..\n",
            "20795    0\n",
            "20796    0\n",
            "20797    0\n",
            "20798    1\n",
            "20799    1\n",
            "Name: label, Length: 20800, dtype: int64\n"
          ],
          "name": "stdout"
        }
      ]
    },
    {
      "cell_type": "markdown",
      "metadata": {
        "id": "lQuBVR6wEC_q"
      },
      "source": [
        "Stemming "
      ]
    },
    {
      "cell_type": "code",
      "metadata": {
        "id": "3Qatk9p8EHvy"
      },
      "source": [
        "port_stem=PorterStemmer()"
      ],
      "execution_count": 62,
      "outputs": []
    },
    {
      "cell_type": "code",
      "metadata": {
        "id": "4CMov3zWEH2k"
      },
      "source": [
        "def stemming(content):\n",
        "    stemmed_content = re.sub('[^a-zA-Z]',' ',str(content))\n",
        "    stemmed_content = stemmed_content.lower()\n",
        "    stemmed_content = stemmed_content.split()\n",
        "    stemmed_content = [port_stem.stem(word) for word in stemmed_content if not word in stopwords.words('english')]\n",
        "    stemmed_content = ' '.join(stemmed_content)\n",
        "    return stemmed_content\n"
      ],
      "execution_count": 90,
      "outputs": []
    },
    {
      "cell_type": "markdown",
      "metadata": {
        "id": "ye1uE_PRezSY"
      },
      "source": [
        ""
      ]
    },
    {
      "cell_type": "code",
      "metadata": {
        "colab": {
          "base_uri": "https://localhost:8080/"
        },
        "id": "1FdcLHHT-Jo4",
        "outputId": "e385db75-910f-47fc-99ba-c59668268228"
      },
      "source": [
        "news_dataset['content'] = news_dataset['content'].apply(stemming)\n",
        "print(news_dataset['content'])"
      ],
      "execution_count": 91,
      "outputs": [
        {
          "output_type": "stream",
          "text": [
            "0        darrel lucu hous dem aid even see comey letter...\n",
            "1        daniel j flynn flynn hillari clinton big woman...\n",
            "2                   consortiumnew com truth might get fire\n",
            "3        jessica purkiss civilian kill singl us airstri...\n",
            "4        howard portnoy iranian woman jail fiction unpu...\n",
            "                               ...                        \n",
            "20795    jerom hudson rapper trump poster child white s...\n",
            "20796    benjamin hoffman n f l playoff schedul matchup...\n",
            "20797    michael j de la merc rachel abram maci said re...\n",
            "20798    alex ansari nato russia hold parallel exercis ...\n",
            "20799                            david swanson keep f aliv\n",
            "Name: content, Length: 20800, dtype: object\n"
          ],
          "name": "stdout"
        }
      ]
    },
    {
      "cell_type": "code",
      "metadata": {
        "colab": {
          "base_uri": "https://localhost:8080/"
        },
        "id": "r_PndDIx_bJv",
        "outputId": "2fc89393-f7c8-42ab-8028-c65e6523690f"
      },
      "source": [
        "print(news_dataset['content'])"
      ],
      "execution_count": 92,
      "outputs": [
        {
          "output_type": "stream",
          "text": [
            "0        darrel lucu hous dem aid even see comey letter...\n",
            "1        daniel j flynn flynn hillari clinton big woman...\n",
            "2                   consortiumnew com truth might get fire\n",
            "3        jessica purkiss civilian kill singl us airstri...\n",
            "4        howard portnoy iranian woman jail fiction unpu...\n",
            "                               ...                        \n",
            "20795    jerom hudson rapper trump poster child white s...\n",
            "20796    benjamin hoffman n f l playoff schedul matchup...\n",
            "20797    michael j de la merc rachel abram maci said re...\n",
            "20798    alex ansari nato russia hold parallel exercis ...\n",
            "20799                            david swanson keep f aliv\n",
            "Name: content, Length: 20800, dtype: object\n"
          ],
          "name": "stdout"
        }
      ]
    },
    {
      "cell_type": "code",
      "metadata": {
        "colab": {
          "base_uri": "https://localhost:8080/"
        },
        "id": "hDPvquAnGqAZ",
        "outputId": "4b1c60b9-87b5-4e86-b0b9-30eb13fcbe02"
      },
      "source": [
        "#Seperating the data and label \n",
        "X= news_dataset['content'].values\n",
        "Y=news_dataset['label'].values\n",
        "print(X)\n",
        "print(Y)"
      ],
      "execution_count": 93,
      "outputs": [
        {
          "output_type": "stream",
          "text": [
            "['darrel lucu hous dem aid even see comey letter jason chaffetz tweet'\n",
            " 'daniel j flynn flynn hillari clinton big woman campu breitbart'\n",
            " 'consortiumnew com truth might get fire' ...\n",
            " 'michael j de la merc rachel abram maci said receiv takeov approach hudson bay new york time'\n",
            " 'alex ansari nato russia hold parallel exercis balkan'\n",
            " 'david swanson keep f aliv']\n",
            "[1 0 1 ... 0 1 1]\n"
          ],
          "name": "stdout"
        }
      ]
    },
    {
      "cell_type": "code",
      "metadata": {
        "colab": {
          "base_uri": "https://localhost:8080/"
        },
        "id": "d9bXHH4Sct6J",
        "outputId": "6eb52bbd-856f-49a3-c82f-339b6083f4f0"
      },
      "source": [
        "#convertering textual data to numerical data\n",
        "vectorizer= TfidfVectorizer()\n",
        "vectorizer.fit(X)\n",
        "\n",
        "X= vectorizer.transform(X)\n",
        "print(X)"
      ],
      "execution_count": 94,
      "outputs": [
        {
          "output_type": "stream",
          "text": [
            "  (0, 14627)\t0.28553358349485225\n",
            "  (0, 12568)\t0.2563589820798857\n",
            "  (0, 8310)\t0.3596536533885757\n",
            "  (0, 8048)\t0.2934713957861362\n",
            "  (0, 7190)\t0.24644399370485162\n",
            "  (0, 6552)\t0.21885788468666617\n",
            "  (0, 4637)\t0.23132772852542255\n",
            "  (0, 3543)\t0.2689082732577136\n",
            "  (0, 3359)\t0.3596536533885757\n",
            "  (0, 2757)\t0.24749629983427848\n",
            "  (0, 2312)\t0.37305738773975167\n",
            "  (0, 247)\t0.2702588721108487\n",
            "  (1, 15664)\t0.30543189988638736\n",
            "  (1, 6377)\t0.19530026425832656\n",
            "  (1, 5140)\t0.7101106653194483\n",
            "  (1, 3328)\t0.2633913741576576\n",
            "  (1, 2619)\t0.19610930415709218\n",
            "  (1, 2066)\t0.38047138877486064\n",
            "  (1, 1764)\t0.15430291936631466\n",
            "  (1, 1391)\t0.29649664509588236\n",
            "  (2, 14561)\t0.41792081528179686\n",
            "  (2, 8973)\t0.4931379270922205\n",
            "  (2, 5579)\t0.35039256210774505\n",
            "  (2, 5031)\t0.3876367834516749\n",
            "  (2, 2895)\t0.4571578367807032\n",
            "  :\t:\n",
            "  (20797, 12240)\t0.25299971331630106\n",
            "  (20797, 11516)\t0.2746816397264756\n",
            "  (20797, 11322)\t0.2462639038918503\n",
            "  (20797, 9606)\t0.08009780291419748\n",
            "  (20797, 8942)\t0.17302467550398123\n",
            "  (20797, 8879)\t0.292493019757073\n",
            "  (20797, 8382)\t0.35802543553428934\n",
            "  (20797, 7798)\t0.22760347584373286\n",
            "  (20797, 6585)\t0.21604144367950015\n",
            "  (20797, 3399)\t0.2179965424436685\n",
            "  (20797, 1194)\t0.3320572140606986\n",
            "  (20797, 651)\t0.30850687822162\n",
            "  (20797, 37)\t0.2996507560086082\n",
            "  (20798, 12166)\t0.23487146256826144\n",
            "  (20798, 10307)\t0.4400320588550197\n",
            "  (20798, 9489)\t0.3261305004793528\n",
            "  (20798, 6445)\t0.3261305004793528\n",
            "  (20798, 4689)\t0.40285915853677656\n",
            "  (20798, 1045)\t0.45055246668763815\n",
            "  (20798, 547)\t0.3070142935620034\n",
            "  (20798, 325)\t0.28095226152921576\n",
            "  (20799, 13853)\t0.5634148492494173\n",
            "  (20799, 7500)\t0.45842491055171847\n",
            "  (20799, 3380)\t0.37942335884890926\n",
            "  (20799, 350)\t0.5731040252787596\n"
          ],
          "name": "stdout"
        }
      ]
    },
    {
      "cell_type": "markdown",
      "metadata": {
        "id": "6wdkIUL8fL04"
      },
      "source": [
        "Splitting the data set "
      ]
    },
    {
      "cell_type": "code",
      "metadata": {
        "id": "u8gmZD8OfPGQ"
      },
      "source": [
        "X_train,X_test,Y_train,Y_test=train_test_split(X,Y,test_size=0.2,stratify=Y,random_state= 2)"
      ],
      "execution_count": 95,
      "outputs": []
    },
    {
      "cell_type": "code",
      "metadata": {
        "id": "ILFE5sSvfyDC"
      },
      "source": [
        "#Training the model \n",
        "model=LogisticRegression()"
      ],
      "execution_count": 96,
      "outputs": []
    },
    {
      "cell_type": "code",
      "metadata": {
        "colab": {
          "base_uri": "https://localhost:8080/"
        },
        "id": "fgXAsWb_gtEI",
        "outputId": "43c784db-25c1-4c10-fc53-ba4af1e85330"
      },
      "source": [
        "model.fit(X_train,Y_train)"
      ],
      "execution_count": 98,
      "outputs": [
        {
          "output_type": "execute_result",
          "data": {
            "text/plain": [
              "LogisticRegression(C=1.0, class_weight=None, dual=False, fit_intercept=True,\n",
              "                   intercept_scaling=1, l1_ratio=None, max_iter=100,\n",
              "                   multi_class='auto', n_jobs=None, penalty='l2',\n",
              "                   random_state=None, solver='lbfgs', tol=0.0001, verbose=0,\n",
              "                   warm_start=False)"
            ]
          },
          "metadata": {
            "tags": []
          },
          "execution_count": 98
        }
      ]
    },
    {
      "cell_type": "code",
      "metadata": {
        "colab": {
          "base_uri": "https://localhost:8080/"
        },
        "id": "11V64Ux-jf4M",
        "outputId": "026f6a62-0180-4b03-bf3a-e2a9fc049804"
      },
      "source": [
        "#Evaluation\n",
        "#accuracy score on training data\n",
        "X_train_predictions = model.predict(X_train)\n",
        "training_data_accuracy = accuracy_score(X_train_predictions,Y_train)\n",
        "print('Accuracy score of training data is :', training_data_accuracy)"
      ],
      "execution_count": 100,
      "outputs": [
        {
          "output_type": "stream",
          "text": [
            "Accuracy score of training data is : 0.9900841346153846\n"
          ],
          "name": "stdout"
        }
      ]
    },
    {
      "cell_type": "code",
      "metadata": {
        "colab": {
          "base_uri": "https://localhost:8080/"
        },
        "id": "eEFqIwpik-dx",
        "outputId": "52fa475e-d83c-43a2-ad8b-8d10aa1fa03e"
      },
      "source": [
        "#accuracy score on test data\n",
        "X_test_predictions = model.predict(X_test)\n",
        "test_data_accuracy = accuracy_score(X_test_predictions,Y_test)\n",
        "print('Accuracy score of test data is :', test_data_accuracy)"
      ],
      "execution_count": 102,
      "outputs": [
        {
          "output_type": "stream",
          "text": [
            "Accuracy score of test data is : 0.9848557692307692\n"
          ],
          "name": "stdout"
        }
      ]
    },
    {
      "cell_type": "markdown",
      "metadata": {
        "id": "AwRD99golZV7"
      },
      "source": [
        "Making a predictive system"
      ]
    },
    {
      "cell_type": "code",
      "metadata": {
        "colab": {
          "base_uri": "https://localhost:8080/"
        },
        "id": "H8U06NGpldhZ",
        "outputId": "7ed0d7e4-e073-478e-e91e-8fa0b1760f49"
      },
      "source": [
        "X_new = X_test[1]\n",
        "\n",
        "prediction = model.predict(X_new)\n",
        "print(prediction)\n",
        "\n",
        "if (prediction[0] == 0):\n",
        "  print('The news is Real ' )\n",
        "\n",
        "else:\n",
        "  print('The News is Fake')"
      ],
      "execution_count": 106,
      "outputs": [
        {
          "output_type": "stream",
          "text": [
            "[0]\n",
            "The news is Real \n"
          ],
          "name": "stdout"
        }
      ]
    }
  ]
}